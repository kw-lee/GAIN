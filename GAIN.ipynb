{
 "cells": [
  {
   "cell_type": "markdown",
   "metadata": {},
   "source": [
    "# GAIN Code"
   ]
  },
  {
   "cell_type": "code",
   "execution_count": 1,
   "metadata": {},
   "outputs": [
    {
     "name": "stdout",
     "output_type": "stream",
     "text": [
      "1.7.0\n"
     ]
    }
   ],
   "source": [
    "import numpy as np\n",
    "import tqdm\n",
    "import matplotlib.pyplot as plt\n",
    "import pandas as pd\n",
    "import torch \n",
    "import torch.nn as nn\n",
    "import torch.utils.data\n",
    "import torch.optim as optim\n",
    "\n",
    "from sklearn.metrics import mean_squared_error\n",
    "from sklearn.preprocessing import MinMaxScaler\n",
    "\n",
    "print(torch.__version__)"
   ]
  },
  {
   "cell_type": "markdown",
   "metadata": {},
   "source": [
    "## Utility functions for GAIN.\n",
    "\n",
    "1. normalization: MinMax Normalizer\n",
    "1. renormalization: Recover the data from normalzied data\n",
    "1. rounding: Handlecategorical variables after imputation\n",
    "1. rmse_loss: Evaluate imputed data in terms of RMSE\n",
    "1. xavier_init: Xavier initialization\n",
    "1. binary_sampler: sample binary random variables\n",
    "1. uniform_sampler: sample uniform random variables\n",
    "1. sample_batch_index: sample random batch index"
   ]
  },
  {
   "cell_type": "code",
   "execution_count": 2,
   "metadata": {},
   "outputs": [],
   "source": [
    "def normalization (data):\n",
    "  '''Normalize data in [0, 1] range.\n",
    "  \n",
    "  Args:\n",
    "    - data: original data\n",
    "  \n",
    "  Returns:\n",
    "    - norm_data: normalized data\n",
    "    - norm_parameters: min_val, max_val for each feature for renormalization\n",
    "  '''\n",
    "\n",
    "  # Parameters\n",
    "  _, dim = data.shape\n",
    "  norm_data = data.copy()\n",
    "  \n",
    "  # MixMax normalization\n",
    "  min_val = np.zeros(dim)\n",
    "  max_val = np.zeros(dim)\n",
    "  \n",
    "  # For each dimension\n",
    "  for i in range(dim):\n",
    "    min_val[i] = np.nanmin(norm_data[:,i])\n",
    "    norm_data[:,i] = norm_data[:,i] - np.nanmin(norm_data[:,i])\n",
    "    max_val[i] = np.nanmax(norm_data[:,i])\n",
    "    norm_data[:,i] = norm_data[:,i] / (np.nanmax(norm_data[:,i]) + 1e-6)   \n",
    "    \n",
    "  # Return norm_parameters for renormalization\n",
    "  norm_parameters = {'min_val': min_val,\n",
    "                     'max_val': max_val}\n",
    "      \n",
    "  return norm_data, norm_parameters\n",
    "\n",
    "def renormalization (norm_data, norm_parameters):\n",
    "  '''Renormalize data from [0, 1] range to the original range.\n",
    "  \n",
    "  Args:\n",
    "    - norm_data: normalized data\n",
    "    - norm_parameters: min_val, max_val for each feature for renormalization\n",
    "  \n",
    "  Returns:\n",
    "    - renorm_data: renormalized original data\n",
    "  '''\n",
    "  \n",
    "  min_val = norm_parameters['min_val']\n",
    "  max_val = norm_parameters['max_val']\n",
    "\n",
    "  _, dim = norm_data.shape\n",
    "  renorm_data = norm_data.copy()\n",
    "    \n",
    "  for i in range(dim):\n",
    "    renorm_data[:,i] = renorm_data[:,i] * (max_val[i] + 1e-6)   \n",
    "    renorm_data[:,i] = renorm_data[:,i] + min_val[i]\n",
    "    \n",
    "  return renorm_data\n",
    "\n",
    "def rounding (imputed_data, data_x):\n",
    "  '''Round imputed data for categorical variables.\n",
    "  \n",
    "  Args:\n",
    "    - imputed_data: imputed data\n",
    "    - data_x: original data with missing values\n",
    "    \n",
    "  Returns:\n",
    "    - rounded_data: rounded imputed data\n",
    "  '''\n",
    "  \n",
    "  _, dim = data_x.shape\n",
    "  rounded_data = imputed_data.copy()\n",
    "  \n",
    "  for i in range(dim):\n",
    "    temp = data_x[~np.isnan(data_x[:, i]), i]\n",
    "    # Only for the categorical variable\n",
    "    if len(np.unique(temp)) < 20:\n",
    "      rounded_data[:, i] = np.round(rounded_data[:, i])\n",
    "      \n",
    "  return rounded_data\n",
    "\n",
    "def rmse_loss (ori_data, imputed_data, data_m):\n",
    "  '''Compute RMSE loss between ori_data and imputed_data\n",
    "  \n",
    "  Args:\n",
    "    - ori_data: original data without missing values\n",
    "    - imputed_data: imputed data\n",
    "    - data_m: indicator matrix for missingness\n",
    "    \n",
    "  Returns:\n",
    "    - rmse: Root Mean Squared Error\n",
    "  '''\n",
    "  \n",
    "  ori_data, _ = normalization(ori_data)\n",
    "  imputed_data, _ = normalization(imputed_data)\n",
    "    \n",
    "  # Only for missing values\n",
    "  nominator = np.sum(((1-data_m) * ori_data - (1-data_m) * imputed_data)**2)\n",
    "  denominator = np.sum(1-data_m)\n",
    "  \n",
    "  rmse = np.sqrt(nominator/float(denominator))\n",
    "  \n",
    "  return rmse"
   ]
  },
  {
   "cell_type": "code",
   "execution_count": 3,
   "metadata": {},
   "outputs": [],
   "source": [
    "def binary_sampler(p, rows, cols):\n",
    "  '''Sample binary random variables.\n",
    "  \n",
    "  Args:\n",
    "    - p: probability of 1\n",
    "    - rows: the number of rows\n",
    "    - cols: the number of columns\n",
    "    \n",
    "  Returns:\n",
    "    - binary_random_matrix: generated binary random matrix.\n",
    "  '''\n",
    "  unif_random_matrix = np.random.uniform(0., 1., size = [rows, cols])\n",
    "  binary_random_matrix = 1*(unif_random_matrix < p)\n",
    "  return binary_random_matrix\n",
    "\n",
    "def uniform_sampler(low, high, rows, cols):\n",
    "  '''Sample uniform random variables.\n",
    "  \n",
    "  Args:\n",
    "    - low: low limit\n",
    "    - high: high limit\n",
    "    - rows: the number of rows\n",
    "    - cols: the number of columns\n",
    "    \n",
    "  Returns:\n",
    "    - uniform_random_matrix: generated uniform random matrix.\n",
    "  '''\n",
    "  return np.random.uniform(low, high, size = [rows, cols])\n",
    "\n",
    "\n",
    "def sample_batch_index(total, batch_size):\n",
    "  '''Sample index of the mini-batch.\n",
    "  \n",
    "  Args:\n",
    "    - total: total number of samples\n",
    "    - batch_size: batch size\n",
    "    \n",
    "  Returns:\n",
    "    - batch_idx: batch index\n",
    "  '''\n",
    "  total_idx = np.random.permutation(total)\n",
    "  batch_idx = total_idx[:batch_size]\n",
    "  return batch_idx"
   ]
  },
  {
   "cell_type": "markdown",
   "metadata": {},
   "source": [
    "## Data"
   ]
  },
  {
   "cell_type": "code",
   "execution_count": 4,
   "metadata": {},
   "outputs": [],
   "source": [
    "theta = 7\n",
    "num_epochs = 500\n",
    "\n",
    "data_path = 'https://raw.githubusercontent.com/kw-lee/MIDA-pytorch/master/data/BostonHousing.csv'\n",
    "mechanism = 'mcar'\n",
    "method = 'uniform'\n",
    "\n",
    "test_size = 0.3\n",
    "use_cuda = True\n",
    "batch_size  = 59 # not in the paper"
   ]
  },
  {
   "cell_type": "code",
   "execution_count": 5,
   "metadata": {},
   "outputs": [],
   "source": [
    "data = pd.read_csv(data_path).values\n",
    "\n",
    "rows, cols = data.shape\n",
    "shuffled_index = np.random.permutation(rows)\n",
    "train_index = shuffled_index[:int(rows*(1-test_size))]\n",
    "test_index = shuffled_index[int(rows*(1-test_size)):]\n",
    "\n",
    "train_data = data[train_index, :]\n",
    "test_data = data[test_index, :]\n",
    "\n",
    "# standardized between 0 and 1\n",
    "scaler = MinMaxScaler()\n",
    "scaler.fit(train_data)\n",
    "train_data = scaler.transform(train_data)\n",
    "test_data = scaler.transform(test_data)"
   ]
  },
  {
   "cell_type": "code",
   "execution_count": 6,
   "metadata": {},
   "outputs": [],
   "source": [
    "# def missing_method(raw_data, mechanism='mcar', method='uniform') :\n",
    "    \n",
    "#     data = raw_data.copy()\n",
    "#     rows, cols = data.shape\n",
    "    \n",
    "#     # missingness threshold\n",
    "#     t = 0.2\n",
    "    \n",
    "#     if mechanism == 'mcar' :\n",
    "    \n",
    "#         if method == 'uniform' :\n",
    "#             # uniform random vector\n",
    "#             v = np.random.uniform(size=(rows, cols))\n",
    "\n",
    "#             # missing values where v<=t\n",
    "#             mask = (v<=t)\n",
    "#             data[mask] = 0\n",
    "\n",
    "#         elif method == 'random' :\n",
    "#             # only half of the attributes to have missing value\n",
    "#             missing_cols = np.random.choice(cols, cols//2)\n",
    "#             c = np.zeros(cols, dtype=bool)\n",
    "#             c[missing_cols] = True\n",
    "\n",
    "#             # uniform random vector\n",
    "#             v = np.random.uniform(size=(rows, cols))\n",
    "\n",
    "#             # missing values where v<=t\n",
    "#             mask = (v<=t)*c\n",
    "#             data[mask] = 0\n",
    "\n",
    "#         else :\n",
    "#             print(\"Error : There are no such method\")\n",
    "#             raise\n",
    "    \n",
    "#     elif mechanism == 'mnar' :\n",
    "        \n",
    "#         if method == 'uniform' :\n",
    "#             # randomly sample two attributes\n",
    "#             sample_cols = np.random.choice(cols, 2)\n",
    "\n",
    "#             # calculate ther median m1, m2\n",
    "#             m1, m2 = np.median(data[:,sample_cols], axis=0)\n",
    "#             # uniform random vector\n",
    "#             v = np.random.uniform(size=(rows, cols))\n",
    "\n",
    "#             # missing values where (v<=t) and (x1 <= m1 or x2 >= m2)\n",
    "#             m1 = data[:,sample_cols[0]] <= m1\n",
    "#             m2 = data[:,sample_cols[1]] >= m2\n",
    "#             m = (m1*m2)[:, np.newaxis]\n",
    "\n",
    "#             mask = m*(v<=t)\n",
    "#             data[mask] = 0\n",
    "\n",
    "\n",
    "#         elif method == 'random' :\n",
    "#             # only half of the attributes to have missing value\n",
    "#             missing_cols = np.random.choice(cols, cols//2)\n",
    "#             c = np.zeros(cols, dtype=bool)\n",
    "#             c[missing_cols] = True\n",
    "\n",
    "#             # randomly sample two attributes\n",
    "#             sample_cols = np.random.choice(cols, 2)\n",
    "\n",
    "#             # calculate ther median m1, m2\n",
    "#             m1, m2 = np.median(data[:,sample_cols], axis=0)\n",
    "#             # uniform random vector\n",
    "#             v = np.random.uniform(size=(rows, cols))\n",
    "\n",
    "#             # missing values where (v<=t) and (x1 <= m1 or x2 >= m2)\n",
    "#             m1 = data[:,sample_cols[0]] <= m1\n",
    "#             m2 = data[:,sample_cols[1]] >= m2\n",
    "#             m = (m1*m2)[:, np.newaxis]\n",
    "\n",
    "#             mask = m*(v<=t)*c\n",
    "#             data[mask] = 0\n",
    "\n",
    "#         else :\n",
    "#             print(\"Error : There is no such method\")\n",
    "#             raise\n",
    "    \n",
    "#     else :\n",
    "#         print(\"Error : There is no such mechanism\")\n",
    "#         raise\n",
    "        \n",
    "#     return data, mask"
   ]
  },
  {
   "cell_type": "markdown",
   "metadata": {},
   "source": [
    "## Data Loader"
   ]
  },
  {
   "cell_type": "code",
   "execution_count": 7,
   "metadata": {},
   "outputs": [],
   "source": [
    "'''Data loader for UCI letter, spam and MNIST datasets.\n",
    "'''\n",
    "\n",
    "\n",
    "def data_loader (data_x, data_name=None, miss_rate=0.5):\n",
    "  '''Loads datasets and introduce missingness.\n",
    "  \n",
    "  Args:\n",
    "    - data_name: letter, spam, or mnist\n",
    "    - miss_rate: the probability of missing components\n",
    "    \n",
    "  Returns:\n",
    "    data_x: original data\n",
    "    miss_data_x: data with missing values\n",
    "    data_m: indicator matrix for missing components\n",
    "  '''\n",
    "  if data_x is None:\n",
    "    # Load data\n",
    "    if data_name in ['letter', 'spam']:\n",
    "      file_name = 'data/'+data_name+'.csv'\n",
    "      data_x = np.loadtxt(file_name, delimiter=\",\", skiprows=1)\n",
    "    elif data_name == 'mnist':\n",
    "      (data_x, _), _ = mnist.load_data()\n",
    "      data_x = np.reshape(np.asarray(data_x), [60000, 28*28]).astype(float)\n",
    "\n",
    "  # Parameters\n",
    "  no, dim = data_x.shape\n",
    "  \n",
    "  # Introduce missing data\n",
    "  data_m = binary_sampler(1-miss_rate, no, dim)\n",
    "  miss_data_x = data_x.copy()\n",
    "  miss_data_x[data_m == 0] = np.nan\n",
    "      \n",
    "  return data_x, miss_data_x, data_m"
   ]
  },
  {
   "cell_type": "code",
   "execution_count": 8,
   "metadata": {},
   "outputs": [],
   "source": [
    "data_x, miss_data_x, data_m = data_loader(train_data, miss_rate=0.3)"
   ]
  },
  {
   "cell_type": "code",
   "execution_count": 9,
   "metadata": {},
   "outputs": [
    {
     "data": {
      "image/png": "[encoded data removed]",
      "text/plain": [
       "<Figure size 576x864 with 2 Axes>"
      ]
     },
     "metadata": {
      "needs_background": "light"
     },
     "output_type": "display_data"
    }
   ],
   "source": [
    "fig = plt.figure(figsize = (8, 12))\n",
    "plt.pcolormesh(data_m)\n",
    "plt.colorbar()\n",
    "plt.show()"
   ]
  },
  {
   "cell_type": "code",
   "execution_count": 10,
   "metadata": {},
   "outputs": [],
   "source": [
    "# missed_data, mask = missing_method(test_data, mechanism=mechanism, method=method)\n",
    "\n",
    "# missed_data = torch.from_numpy(missed_data).float()\n",
    "# train_data = torch.from_numpy(train_data).float()\n",
    "\n",
    "data_x = torch.from_numpy(data_x).float()\n",
    "miss_data_x0 = torch.from_numpy(np.nan_to_num(miss_data_x, nan=0.0, copy=True)).float()\n",
    "data_m = torch.from_numpy(data_m).float()\n",
    "\n",
    "train_loader = torch.utils.data.DataLoader(dataset=torch.cat([miss_data_x0, data_m], axis=1),\n",
    "                                           batch_size=batch_size,\n",
    "                                           shuffle=True)"
   ]
  },
  {
   "cell_type": "markdown",
   "metadata": {},
   "source": [
    "## Model"
   ]
  },
  {
   "cell_type": "code",
   "execution_count": 11,
   "metadata": {},
   "outputs": [
    {
     "name": "stdout",
     "output_type": "stream",
     "text": [
      "cpu\n"
     ]
    }
   ],
   "source": [
    "device = torch.device(\"cuda\" if torch.cuda.is_available() else \"cpu\")\n",
    "print(device)"
   ]
  },
  {
   "cell_type": "code",
   "execution_count": 12,
   "metadata": {},
   "outputs": [],
   "source": [
    "class Generator(nn.Module):\n",
    "  def __init__(self, dim):\n",
    "    super(Generator, self).__init__()\n",
    "    self.dim = dim\n",
    "    self.body = nn.Sequential(\n",
    "      nn.Linear(self.dim*2, self.dim),\n",
    "      nn.ReLU(),\n",
    "      nn.Linear(self.dim, self.dim),\n",
    "      nn.ReLU(),\n",
    "      nn.Linear(self.dim, self.dim),\n",
    "      nn.Sigmoid()\n",
    "    )\n",
    "    \n",
    "  def forward(self, x):\n",
    "    return self.body(x)\n",
    "    \n",
    "    \n",
    "class Discriminator(nn.Module):\n",
    "  def __init__(self, dim):\n",
    "    super(Discriminator, self).__init__()\n",
    "    self.dim = dim\n",
    "    self.body = nn.Sequential(\n",
    "      nn.Linear(self.dim*2, self.dim),\n",
    "      nn.ReLU(),\n",
    "      nn.Linear(self.dim, self.dim),\n",
    "      nn.ReLU(),\n",
    "      nn.Linear(self.dim, self.dim),\n",
    "      nn.Sigmoid()\n",
    "    )\n",
    "    \n",
    "  def forward(self, x):\n",
    "    return self.body(x)"
   ]
  },
  {
   "cell_type": "code",
   "execution_count": 13,
   "metadata": {},
   "outputs": [
    {
     "data": {
      "text/plain": [
       "Discriminator(\n",
       "  (body): Sequential(\n",
       "    (0): Linear(in_features=28, out_features=14, bias=True)\n",
       "    (1): ReLU()\n",
       "    (2): Linear(in_features=14, out_features=14, bias=True)\n",
       "    (3): ReLU()\n",
       "    (4): Linear(in_features=14, out_features=14, bias=True)\n",
       "    (5): Sigmoid()\n",
       "  )\n",
       ")"
      ]
     },
     "execution_count": 13,
     "metadata": {},
     "output_type": "execute_result"
    }
   ],
   "source": [
    "G = Generator(dim=cols)\n",
    "D = Discriminator(dim=cols)\n",
    "\n",
    "G.to(device)\n",
    "D.to(device)"
   ]
  },
  {
   "cell_type": "code",
   "execution_count": 14,
   "metadata": {},
   "outputs": [],
   "source": [
    "def sample_z(dim, batch_size=1):\n",
    "  return torch.rand(batch_size, dim, device=device)*0.01"
   ]
  },
  {
   "cell_type": "code",
   "execution_count": 15,
   "metadata": {},
   "outputs": [
    {
     "data": {
      "image/png": "[encoded data removed]",
      "text/plain": [
       "<Figure size 864x432 with 4 Axes>"
      ]
     },
     "metadata": {
      "needs_background": "light"
     },
     "output_type": "display_data"
    }
   ],
   "source": [
    "# example\n",
    "z = sample_z(cols, batch_size)\n",
    "input_fake = torch.cat([z, data_m[:batch_size, ]], axis=1)\n",
    "data_fake = G(input_fake)\n",
    "\n",
    "\n",
    "f, axs = plt.subplots(1,3, figsize=(12,6))\n",
    "axs[0].pcolormesh(scaler.inverse_transform(data_x[:batch_size]))\n",
    "axs[0].set_title(\"real data\")\n",
    "axs[1].pcolormesh(scaler.inverse_transform(miss_data_x[:batch_size]))\n",
    "axs[1].set_title(\"missed data\")\n",
    "im = axs[2].pcolormesh(scaler.inverse_transform(data_fake.cpu().detach()))\n",
    "axs[2].set_title(\"imputated data\")\n",
    "\n",
    "fig.colorbar(im, ax=axs.ravel().tolist())\n",
    "plt.show()"
   ]
  },
  {
   "cell_type": "markdown",
   "metadata": {},
   "source": [
    "## Training"
   ]
  },
  {
   "cell_type": "code",
   "execution_count": 16,
   "metadata": {},
   "outputs": [],
   "source": [
    "ALMOSTZERO=1e-8\n",
    "D_loss = nn.functional.binary_cross_entropy\n",
    "# def D_loss(M, D_prob):\n",
    "#   d_loss = -(M * torch.log(D_prob + ALMOSTZERO) + (1-M)*torch.log(1-D_prob+ALMOSTZERO)).mean()\n",
    "#   return d_loss\n",
    "\n",
    "def G_loss(X, M, G_sample, D_prob, alpha=100):\n",
    "  g_loss = -((1-M) * torch.log(D_prob + ALMOSTZERO)).mean() + \\\n",
    "    alpha * ((M*X-M*G_sample)**2).mean() / M.mean()\n",
    "  return g_loss"
   ]
  },
  {
   "cell_type": "code",
   "execution_count": 17,
   "metadata": {},
   "outputs": [],
   "source": [
    "G_optimizer = optim.Adam(G.parameters())\n",
    "D_optimizer = optim.Adam(D.parameters())"
   ]
  },
  {
   "cell_type": "code",
   "execution_count": 18,
   "metadata": {},
   "outputs": [],
   "source": [
    "G_loss_list = []\n",
    "D_loss_list = []\n",
    "early_stop = False\n",
    "num_epochs = 2000\n",
    "hint_rate = 0.9\n",
    "alpha = 100"
   ]
  },
  {
   "cell_type": "code",
   "execution_count": 19,
   "metadata": {},
   "outputs": [
    {
     "name": "stderr",
     "output_type": "stream",
     "text": [
      "Epoch: 100%|██████████| 2000/2000 [00:38<00:00, 52.00it/s, D_loss=0.165, G_loss=0.796]"
     ]
    },
    {
     "name": "stdout",
     "output_type": "stream",
     "text": [
      "Learning Finished!\n"
     ]
    },
    {
     "name": "stderr",
     "output_type": "stream",
     "text": [
      "\n"
     ]
    }
   ],
   "source": [
    "t = tqdm.trange(num_epochs, desc='Epoch', leave=True)\n",
    "\n",
    "for epoch in t:\n",
    "    total_batch = len(train_data) // batch_size\n",
    "    \n",
    "    for i, batch_data in enumerate(train_loader):\n",
    "        \n",
    "        # sample batch vectors\n",
    "        batch_data = batch_data.to(device)\n",
    "        \n",
    "        # flush\n",
    "        D_optimizer.zero_grad()\n",
    "        \n",
    "        X_mb = batch_data[:, :cols]\n",
    "        M_mb = batch_data[:, cols:]\n",
    "        # sample random vectors\n",
    "        Z_mb = sample_z(dim=cols, batch_size=batch_size)\n",
    "        # sample hint vectors\n",
    "        H_mb = torch.from_numpy(binary_sampler(hint_rate, batch_size, cols)).float()\n",
    "        H_mb = M_mb * H_mb\n",
    "        \n",
    "        # combine random vectors with observed vectors\n",
    "        X_mb = M_mb * X_mb + (1-M_mb)*Z_mb\n",
    "        \n",
    "        # Generate\n",
    "        G_sample = G(torch.cat([X_mb, M_mb], axis=1))\n",
    "        Hat_X_mb = X_mb * M_mb + G_sample * (1-M_mb)    \n",
    "        D_prob = D(torch.cat([Hat_X_mb, H_mb], axis=1))    \n",
    "        \n",
    "        d_loss = D_loss(D_prob, M_mb)\n",
    "        d_loss.backward()\n",
    "        D_optimizer.step()                \n",
    "        \n",
    "        # flush \n",
    "        G_optimizer.zero_grad()\n",
    "        \n",
    "        G_sample = G(torch.cat([X_mb, M_mb], axis=1))\n",
    "        Hat_X_mb = X_mb * M_mb + G_sample * (1-M_mb)    \n",
    "        D_prob = D(torch.cat([Hat_X_mb, H_mb], axis=1))  \n",
    "        \n",
    "        g_loss = G_loss(X_mb, M_mb, G_sample, D_prob, alpha=alpha)\n",
    "        g_loss.backward()        \n",
    "        G_optimizer.step()                \n",
    "        \n",
    "        # early stopping rule 1 : MSE < 1e-06\n",
    "        if d_loss.item() < 1e-06 :\n",
    "            early_stop = True\n",
    "            break\n",
    "            \n",
    "#         early stopping rule 2 : simple moving average of length 5\n",
    "#         sometimes it doesn't work well.\n",
    "#         if len(cost_list) > 5 :\n",
    "#            if cost.item() > np.mean(cost_list[-5:]):\n",
    "#                early_stop = True\n",
    "#                break\n",
    "                \n",
    "    D_loss_list.append(d_loss.item())\n",
    "    G_loss_list.append(g_loss.item())\n",
    "    t.set_postfix({'D_loss': d_loss.item(), 'G_loss': g_loss.item()})\n",
    "    if early_stop :\n",
    "        break\n",
    "        \n",
    "print(\"Learning Finished!\")"
   ]
  },
  {
   "cell_type": "code",
   "execution_count": 20,
   "metadata": {},
   "outputs": [
    {
     "data": {
      "image/png": "[encoded data removed]",
      "text/plain": [
       "<Figure size 432x288 with 1 Axes>"
      ]
     },
     "metadata": {
      "needs_background": "light"
     },
     "output_type": "display_data"
    }
   ],
   "source": [
    "plt.plot(D_loss_list, label='D_loss')\n",
    "plt.plot(G_loss_list, label='G_loss')\n",
    "plt.legend()\n",
    "plt.show()"
   ]
  },
  {
   "cell_type": "code",
   "execution_count": 22,
   "metadata": {},
   "outputs": [
    {
     "data": {
      "image/png": "[encoded data removed]",
      "text/plain": [
       "<Figure size 864x432 with 4 Axes>"
      ]
     },
     "metadata": {
      "needs_background": "light"
     },
     "output_type": "display_data"
    }
   ],
   "source": [
    "test_data_x, miss_test_data_x, test_data_m = data_loader(test_data, miss_rate=0.3)\n",
    "\n",
    "test_data_x = torch.from_numpy(test_data_x).float()\n",
    "miss_test_data_x0 = torch.from_numpy(np.nan_to_num(miss_test_data_x, nan=0.0, copy=True)).float()\n",
    "test_data_m = torch.from_numpy(test_data_m).float()\n",
    "\n",
    "z = sample_z(cols, test_data_x.shape[0])\n",
    "input_fake = torch.cat([z, test_data_m], axis=1)\n",
    "data_fake = G(input_fake)\n",
    "\n",
    "\n",
    "f, axs = plt.subplots(1,3, figsize=(12,6))\n",
    "axs[0].pcolormesh(scaler.inverse_transform(test_data_x))\n",
    "axs[0].set_title(\"real data\")\n",
    "axs[1].pcolormesh(scaler.inverse_transform(miss_test_data_x))\n",
    "axs[1].set_title(\"missed data\")\n",
    "im = axs[2].pcolormesh(scaler.inverse_transform(data_fake.cpu().detach()))\n",
    "axs[2].set_title(\"imputated data\")\n",
    "\n",
    "fig.colorbar(im, ax=axs.ravel().tolist())\n",
    "plt.show()"
   ]
  }
 ],
 "metadata": {
  "kernelspec": {
   "display_name": "Python 3",
   "language": "python",
   "name": "python3"
  },
  "language_info": {
   "codemirror_mode": {
    "name": "ipython",
    "version": 3
   },
   "file_extension": ".py",
   "mimetype": "text/x-python",
   "name": "python",
   "nbconvert_exporter": "python",
   "pygments_lexer": "ipython3",
   "version": "3.8.5"
  }
 },
 "nbformat": 4,
 "nbformat_minor": 4
}
